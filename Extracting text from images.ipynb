{
 "cells": [
  {
   "cell_type": "code",
   "execution_count": 1,
   "id": "390bfc11",
   "metadata": {},
   "outputs": [
    {
     "name": "stdout",
     "output_type": "stream",
     "text": [
      "Requirement already satisfied: tesseract in c:\\users\\91636\\anaconda3\\lib\\site-packages (0.1.3)\n",
      "Requirement already satisfied: pytesseract in c:\\users\\91636\\anaconda3\\lib\\site-packages (0.3.10)\n",
      "Requirement already satisfied: packaging>=21.3 in c:\\users\\91636\\anaconda3\\lib\\site-packages (from pytesseract) (21.3)\n",
      "Requirement already satisfied: Pillow>=8.0.0 in c:\\users\\91636\\anaconda3\\lib\\site-packages (from pytesseract) (9.0.1)\n",
      "Requirement already satisfied: pyparsing!=3.0.5,>=2.0.2 in c:\\users\\91636\\anaconda3\\lib\\site-packages (from packaging>=21.3->pytesseract) (3.0.4)\n",
      "Requirement already satisfied: opencv-python in c:\\users\\91636\\anaconda3\\lib\\site-packages (4.9.0.80)\n",
      "Requirement already satisfied: numpy>=1.17.3 in c:\\users\\91636\\anaconda3\\lib\\site-packages (from opencv-python) (1.26.4)\n"
     ]
    }
   ],
   "source": [
    "!pip install tesseract\n",
    "!pip install pytesseract\n",
    "!pip install opencv-python"
   ]
  },
  {
   "cell_type": "markdown",
   "id": "2021c88d",
   "metadata": {},
   "source": [
    "# 1. Tesseract is an optical character recognition (OCR) engine that is used to recognize text in images.\n",
    "# 2. Pytesseract provides OCR functionality for extracting text from images using tesseract OCR engine.\n",
    "# 3. OpenCV-Python provides image processing to improve OCR accuracy and image reading/writing functions."
   ]
  },
  {
   "cell_type": "code",
   "execution_count": 2,
   "id": "da9ee2bb",
   "metadata": {},
   "outputs": [],
   "source": [
    "import pytesseract # Import pytesseract module\n",
    "pytesseract.pytesseract.tesseract_cmd = \"C:\\\\Program Files\\\\Tesseract-OCR\\\\tesseract.exe\""
   ]
  },
  {
   "cell_type": "code",
   "execution_count": 3,
   "id": "c8cd3285",
   "metadata": {},
   "outputs": [],
   "source": [
    "import cv2  # import cv2 module for image processing"
   ]
  },
  {
   "cell_type": "code",
   "execution_count": 8,
   "id": "cf46633e",
   "metadata": {},
   "outputs": [
    {
     "name": "stdout",
     "output_type": "stream",
     "text": [
      "It was the best of\n",
      "times, it was the worst\n",
      "of times, it was the age\n",
      "of wisdom, it was the\n",
      "age of foolishness...\n",
      "\n"
     ]
    }
   ],
   "source": [
    "img = cv2.imread('1.png')  # To read the image file\n",
    "cv2.imshow('Image',img)  # To display the image in a window\n",
    "cv2.waitKey(0) # Wait for keypress before closing the window\n",
    "cv2.destroyAllWindows() # To close the image window\n",
    "text = pytesseract.image_to_string(img)  # To extract text from image\n",
    "print(text)  # To print the text"
   ]
  },
  {
   "cell_type": "code",
   "execution_count": 5,
   "id": "e7b2555f",
   "metadata": {},
   "outputs": [
    {
     "name": "stdout",
     "output_type": "stream",
     "text": [
      "Adobe, the Adobe logo, Acrobat, the Acrobat logo, Acrobat Capture, Adobe Garamond, Adobe\n",
      "Intelligent Document Platform, Adobe PDF, Adobe Reader, Adobe Solutions Network, Aldus, Dis-\n",
      "tiller, ePaper, Extreme, FrameMaker, Illustrator, InDesign, Minion, Myriad, PageMaker, Photo-\n",
      "shop, Poetica, PostScript, and XMP are either registered trademarks or trademarks of Adobe\n",
      "‘Systems Incorporated in the United States and/or other countries. Microsoft and Windows are\n",
      "either registered trademarks or trademarks of Microsoft Corporation in the United States and/or\n",
      "other countries. Apple, Mac, Macintosh, and Power Macintosh are trademarks of Apple Computer,\n",
      "Inc,, registered in the United States and other countries. IBM is a registered trademark of IBM\n",
      "Corporation in the United States. Sun is a trademark or registered trademark of Sun Microsys-\n",
      "tems, Inc. in the United States and other countries. UNIX is a registered trademark of The Open\n",
      "Group. SVG is a trademark of the World Wide Web Consortium; marks of the W3C are registered\n",
      "and held by its host[institutions|MIT, INRIA and Keio. Helvetica and Times are registered trade-\n",
      "marks of Linotype-Hell AG and/or its subsidiaries. Arial and Times New Roman are trademarks of\n",
      "‘The Monotype Corporation registered in the US. Patent and Trademark Office and may be regis-\n",
      "tered in certain other jurisdictions. ITC Zapf Dingbats is a registered trademark of International\n",
      "‘Typeface Corporation. Ryumin Light is a trademark of Morisawa & Co., Ltd. All other trademarks\n",
      "are the property of their respective owners.\n",
      "\n",
      "\n"
     ]
    }
   ],
   "source": [
    "img = cv2.imread('2.png')  # To read the image file\n",
    "cv2.imshow('Image',img)  # To display the image in a window\n",
    "cv2.waitKey(0) # Wait for keypress before closing the window\n",
    "cv2.destroyAllWindows() # To close the image window\n",
    "text = pytesseract.image_to_string(img)  # To extract text from image\n",
    "print(text)  # To print the text"
   ]
  },
  {
   "cell_type": "code",
   "execution_count": 6,
   "id": "7bde64d5",
   "metadata": {},
   "outputs": [
    {
     "name": "stdout",
     "output_type": "stream",
     "text": [
      "Tomorrow, and\n",
      "tomorrow, and\n",
      "tomorrow; creeps\n",
      "in this petty pace\n",
      "from day to day,\n",
      "until the last syll-\n",
      "able of recorded\n",
      "time. And all our\n",
      "yesterdays have\n",
      "lighted fools the\n",
      "way to dusty\n",
      "\n",
      "\n"
     ]
    }
   ],
   "source": [
    "img = cv2.imread('3.png')  # To read the image file\n",
    "cv2.imshow('Image',img)  # To display the image in a window\n",
    "cv2.waitKey(0) # Wait for keypress before closing the window\n",
    "cv2.destroyAllWindows() # To close the image window\n",
    "text = pytesseract.image_to_string(img)  # To extract text from image\n",
    "print(text)  # To print the text"
   ]
  },
  {
   "cell_type": "code",
   "execution_count": 7,
   "id": "9acae004",
   "metadata": {},
   "outputs": [
    {
     "name": "stdout",
     "output_type": "stream",
     "text": [
      "SCENE FROM “DAN'L DRUCKE.”\n",
      "\n",
      "This interesting domestic drama, by Mr. W. 8. Gilbert,\n",
      "has continued to engage the sympathies of a nightly\n",
      "sufficient audience at the Haymarket Theatre, where it\n",
      "has now been represented more than sixty times. Its\n",
      "subject and character were described by us, in the\n",
      "ordinary report of theatrical novelties, about two months\n",
      "ago. Our readers will probably not need to be reminded\n",
      "that the hero of the story, Dan’l Druce, the blacksmith,\n",
      "is a solitary recluse dwelling on the coast of Norfolk,\n",
      "where his lone cottage is visited by fugitives from party\n",
      "v.ngeance during the civil wars of the Commonwealth.\n",
      "Ifis hoard of money is stolen; but a different sort of\n",
      "treasure, a helpless female infant; is left by some mys-\n",
      "terious agency, and may be accepted, as in George\n",
      "Eliot’s tale of “Silas Marner,’ for a Divine gift to the\n",
      "sad-hearted misanthrope, far better than riches. . In\n",
      "this spirit, at least, he is content to receive the precious\n",
      "human charge; and so to those who would remove it\n",
      "from his home, Dan’l Druce here makes answer with\n",
      "the solemn exclamation, ‘Touch not the Lord’s gift!”\n",
      "This character is well acted by Mr. Hermann Vezin.\n",
      "\n"
     ]
    }
   ],
   "source": [
    "img = cv2.imread('4.png')  # To read the image file\n",
    "cv2.imshow('Image',img)  # To display the image in a window\n",
    "cv2.waitKey(0) # Wait for keypress before closing the window\n",
    "cv2.destroyAllWindows() # To close the image window\n",
    "text = pytesseract.image_to_string(img)  # To extract text from image\n",
    "print(text)  # To print the text"
   ]
  }
 ],
 "metadata": {
  "kernelspec": {
   "display_name": "Python 3 (ipykernel)",
   "language": "python",
   "name": "python3"
  },
  "language_info": {
   "codemirror_mode": {
    "name": "ipython",
    "version": 3
   },
   "file_extension": ".py",
   "mimetype": "text/x-python",
   "name": "python",
   "nbconvert_exporter": "python",
   "pygments_lexer": "ipython3",
   "version": "3.9.12"
  }
 },
 "nbformat": 4,
 "nbformat_minor": 5
}
